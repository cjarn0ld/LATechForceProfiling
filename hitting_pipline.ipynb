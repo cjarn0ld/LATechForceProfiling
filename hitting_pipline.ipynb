{
 "cells": [
  {
   "cell_type": "code",
   "execution_count": 2,
   "metadata": {},
   "outputs": [],
   "source": [
    "import numpy as np \n",
    "import pandas as pd\n",
    "import os\n",
    "import sys\n",
    "import scipy as sp\n",
    "import math\n",
    "import matplotlib.pyplot as plt \n",
    "import csv\n",
    "from itertools import cycle\n",
    "import tensorflow as tf\n",
    "from scipy.signal import find_peaks\n",
    "from scipy.ndimage import gaussian_filter\n",
    "from scipy import stats\n",
    "from scipy.optimize import curve_fit"
   ]
  },
  {
   "cell_type": "code",
   "execution_count": 3,
   "metadata": {},
   "outputs": [
    {
     "ename": "TypeError",
     "evalue": "unsupported operand type(s) for /: 'NoneType' and 'int'",
     "output_type": "error",
     "traceback": [
      "\u001b[0;31m---------------------------------------------------------------------------\u001b[0m",
      "\u001b[0;31mTypeError\u001b[0m                                 Traceback (most recent call last)",
      "\u001b[1;32m/Users/charlesarnold/Library/Mobile Documents/com~apple~CloudDocs/Documents/Shared Documents/LA Tech/2023/hitting_pipline.ipynb Cell 2\u001b[0m line \u001b[0;36m3\n\u001b[1;32m     <a href='vscode-notebook-cell:/Users/charlesarnold/Library/Mobile%20Documents/com~apple~CloudDocs/Documents/Shared%20Documents/LA%20Tech/2023/hitting_pipline.ipynb#W1sZmlsZQ%3D%3D?line=28'>29</a>\u001b[0m     count_files \u001b[39m+\u001b[39m\u001b[39m=\u001b[39m \u001b[39m1\u001b[39m\n\u001b[1;32m     <a href='vscode-notebook-cell:/Users/charlesarnold/Library/Mobile%20Documents/com~apple~CloudDocs/Documents/Shared%20Documents/LA%20Tech/2023/hitting_pipline.ipynb#W1sZmlsZQ%3D%3D?line=30'>31</a>\u001b[0m \u001b[39m# Compute the average for each common time step across all files\u001b[39;00m\n\u001b[0;32m---> <a href='vscode-notebook-cell:/Users/charlesarnold/Library/Mobile%20Documents/com~apple~CloudDocs/Documents/Shared%20Documents/LA%20Tech/2023/hitting_pipline.ipynb#W1sZmlsZQ%3D%3D?line=31'>32</a>\u001b[0m avg_df \u001b[39m=\u001b[39m sum_df \u001b[39m/\u001b[39;49m count_files\n\u001b[1;32m     <a href='vscode-notebook-cell:/Users/charlesarnold/Library/Mobile%20Documents/com~apple~CloudDocs/Documents/Shared%20Documents/LA%20Tech/2023/hitting_pipline.ipynb#W1sZmlsZQ%3D%3D?line=33'>34</a>\u001b[0m \u001b[39m# Define the output path\u001b[39;00m\n\u001b[1;32m     <a href='vscode-notebook-cell:/Users/charlesarnold/Library/Mobile%20Documents/com~apple~CloudDocs/Documents/Shared%20Documents/LA%20Tech/2023/hitting_pipline.ipynb#W1sZmlsZQ%3D%3D?line=34'>35</a>\u001b[0m output_path \u001b[39m=\u001b[39m os\u001b[39m.\u001b[39mpath\u001b[39m.\u001b[39mjoin(folder_path, \u001b[39m'\u001b[39m\u001b[39mtime_series_averages.xlsx\u001b[39m\u001b[39m'\u001b[39m)\n",
      "\u001b[0;31mTypeError\u001b[0m: unsupported operand type(s) for /: 'NoneType' and 'int'"
     ]
    }
   ],
   "source": [
    "#folder_path = r\"C:\\Users\\User\\OneDrive\\Desktop\\Hitting\"  # Windows folder path\n",
    "folder_path = r\"/Users/charlesarnold/Library/Mobile Documents/com~apple~CloudDocs/Documents/Shared Documents/LA Tech/2023/Hitting\" #mac path\n",
    "all_files = [f for f in os.listdir(folder_path) if f.endswith('.xlsx') or f.endswith('.xls')]\n",
    "\n",
    "sum_df = None\n",
    "count_files = 0\n",
    "\n",
    "for file in all_files:\n",
    "    file_path = os.path.join(folder_path, file)\n",
    "    \n",
    "    # Read the Excel file into a DataFrame\n",
    "    df = pd.read_excel(file_path, engine='openpyxl')\n",
    "    \n",
    "    # Initialize sum_df if it's the first file\n",
    "    if sum_df is None:\n",
    "        sum_df = df.copy()\n",
    "    else:\n",
    "        # Truncate both dataframes to the shortest common time index\n",
    "        common_length = min(len(sum_df), len(df))\n",
    "        sum_df = sum_df.iloc[:common_length]\n",
    "        df = df.iloc[:common_length]\n",
    "        \n",
    "        # Ensure that the time index is aligned before summing up\n",
    "        if not sum_df.index.equals(df.index):\n",
    "            raise ValueError(f\"The time index in {file} does not match the previous files!\")\n",
    "        \n",
    "        sum_df += df\n",
    "    \n",
    "    count_files += 1\n",
    "\n",
    "# Compute the average for each common time step across all files\n",
    "avg_df = sum_df / count_files\n",
    "\n",
    "# Define the output path\n",
    "output_path = os.path.join(folder_path, 'time_series_averages.xlsx')\n",
    "\n",
    "# Write to Excel\n",
    "avg_df.to_excel(output_path, index=True, engine='openpyxl')\n",
    "\n",
    "print(f\"Time series averages written to {output_path}\")"
   ]
  },
  {
   "cell_type": "code",
   "execution_count": 46,
   "metadata": {},
   "outputs": [],
   "source": []
  },
  {
   "cell_type": "code",
   "execution_count": 47,
   "metadata": {},
   "outputs": [
    {
     "ename": "OperationalError",
     "evalue": "table \"average_table\" already exists",
     "output_type": "error",
     "traceback": [
      "\u001b[1;31m---------------------------------------------------------------------------\u001b[0m",
      "\u001b[1;31mOperationalError\u001b[0m                          Traceback (most recent call last)",
      "\u001b[1;32mUntitled-1.ipynb Cell 4\u001b[0m line \u001b[0;36m1\n\u001b[0;32m      <a href='vscode-notebook-cell:Untitled-1.ipynb?jupyter-notebook#W2sdW50aXRsZWQ%3D?line=7'>8</a>\u001b[0m all_averages \u001b[39m=\u001b[39m [get_average_of_table(cursor, table) \u001b[39mfor\u001b[39;00m table \u001b[39min\u001b[39;00m tables]\n\u001b[0;32m     <a href='vscode-notebook-cell:Untitled-1.ipynb?jupyter-notebook#W2sdW50aXRsZWQ%3D?line=9'>10</a>\u001b[0m \u001b[39m# Create a new table to store averages\u001b[39;00m\n\u001b[1;32m---> <a href='vscode-notebook-cell:Untitled-1.ipynb?jupyter-notebook#W2sdW50aXRsZWQ%3D?line=10'>11</a>\u001b[0m create_average_table(cursor, average_table_name)\n\u001b[0;32m     <a href='vscode-notebook-cell:Untitled-1.ipynb?jupyter-notebook#W2sdW50aXRsZWQ%3D?line=12'>13</a>\u001b[0m \u001b[39m# Insert average values into the new table\u001b[39;00m\n\u001b[0;32m     <a href='vscode-notebook-cell:Untitled-1.ipynb?jupyter-notebook#W2sdW50aXRsZWQ%3D?line=13'>14</a>\u001b[0m \u001b[39mfor\u001b[39;00m avg \u001b[39min\u001b[39;00m all_averages:\n",
      "\u001b[1;32mUntitled-1.ipynb Cell 4\u001b[0m line \u001b[0;36m2\n\u001b[0;32m     <a href='vscode-notebook-cell:Untitled-1.ipynb?jupyter-notebook#W2sdW50aXRsZWQ%3D?line=19'>20</a>\u001b[0m \u001b[39mdef\u001b[39;00m \u001b[39mcreate_average_table\u001b[39m(cursor, table_name):\n\u001b[1;32m---> <a href='vscode-notebook-cell:Untitled-1.ipynb?jupyter-notebook#W2sdW50aXRsZWQ%3D?line=20'>21</a>\u001b[0m     cursor\u001b[39m.\u001b[39;49mexecute(\u001b[39mf\u001b[39;49m\u001b[39m'\u001b[39;49m\u001b[39mCREATE TABLE \u001b[39;49m\u001b[39m\"\u001b[39;49m\u001b[39m{\u001b[39;49;00mtable_name\u001b[39m}\u001b[39;49;00m\u001b[39m\"\u001b[39;49m\u001b[39m (\u001b[39;49m\u001b[39m{\u001b[39;49;00mcolumn_definitions\u001b[39m}\u001b[39;49;00m\u001b[39m)\u001b[39;49m\u001b[39m'\u001b[39;49m)\n",
      "\u001b[1;31mOperationalError\u001b[0m: table \"average_table\" already exists"
     ]
    }
   ],
   "source": []
  },
  {
   "cell_type": "code",
   "execution_count": null,
   "metadata": {},
   "outputs": [],
   "source": []
  }
 ],
 "metadata": {
  "kernelspec": {
   "display_name": "base",
   "language": "python",
   "name": "python3"
  },
  "language_info": {
   "codemirror_mode": {
    "name": "ipython",
    "version": 3
   },
   "file_extension": ".py",
   "mimetype": "text/x-python",
   "name": "python",
   "nbconvert_exporter": "python",
   "pygments_lexer": "ipython3",
   "version": "3.10.8"
  }
 },
 "nbformat": 4,
 "nbformat_minor": 2
}
